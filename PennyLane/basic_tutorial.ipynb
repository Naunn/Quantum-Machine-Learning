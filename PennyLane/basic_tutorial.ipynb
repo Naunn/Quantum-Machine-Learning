{
 "cells": [
  {
   "cell_type": "code",
   "execution_count": 1,
   "metadata": {},
   "outputs": [],
   "source": [
    "import pennylane as qml\n",
    "from pennylane import numpy as np"
   ]
  },
  {
   "attachments": {},
   "cell_type": "markdown",
   "metadata": {},
   "source": [
    "# Create a device"
   ]
  },
  {
   "cell_type": "code",
   "execution_count": 6,
   "metadata": {},
   "outputs": [],
   "source": [
    "dev1 = qml.device(name=\"default.qubit\", wires=1)"
   ]
  },
  {
   "attachments": {},
   "cell_type": "markdown",
   "metadata": {},
   "source": [
    "# Constructing the QNode"
   ]
  },
  {
   "cell_type": "code",
   "execution_count": 8,
   "metadata": {},
   "outputs": [],
   "source": [
    "@qml.qnode(dev1, interface=\"autograd\")\n",
    "def circuit(params):\n",
    "    qml.RX(params[0], wires=0)\n",
    "    qml.RY(params[1], wires=0)\n",
    "    return qml.expval(qml.PauliZ(0))"
   ]
  },
  {
   "cell_type": "code",
   "execution_count": 27,
   "metadata": {},
   "outputs": [
    {
     "name": "stdout",
     "output_type": "stream",
     "text": [
      "i: 0\n",
      "x: 0.7848076437954378\n",
      "y: 0.9138150827988686\n",
      "cricuit: 0.4321057480501024\n",
      "\n",
      "i: 1\n",
      "x: 0.054159451643034706\n",
      "y: 0.14826765256268193\n",
      "cricuit: 0.9875782954313319\n",
      "\n",
      "i: 2\n",
      "x: 0.9611824658066396\n",
      "y: 0.3749391536098673\n",
      "cricuit: 0.5327757534547474\n",
      "\n",
      "i: 3\n",
      "x: 0.9683188738187085\n",
      "y: 0.7713241757331837\n",
      "cricuit: 0.4063068140190226\n",
      "\n",
      "i: 4\n",
      "x: 0.7697747192688014\n",
      "y: 0.1671943472873536\n",
      "cricuit: 0.7080544241575848\n",
      "\n"
     ]
    }
   ],
   "source": [
    "for i in range(5):\n",
    "    print(\"i:\",i)\n",
    "    x, y = np.random.random(), np.random.random()\n",
    "    print(\"x: {}\\ny: {}\\ncricuit: {}\\n\".format(x,y,circuit([x, y])))"
   ]
  },
  {
   "attachments": {},
   "cell_type": "markdown",
   "metadata": {},
   "source": [
    "# Calculating quantum gradients"
   ]
  },
  {
   "cell_type": "code",
   "execution_count": 29,
   "metadata": {},
   "outputs": [
    {
     "name": "stdout",
     "output_type": "stream",
     "text": [
      "i: 0\n",
      "x: 0.5239631559098381\n",
      "y: 0.9240050780897539\n",
      "cricuit: [array(-0.30150458), array(-0.69096153)]\n",
      "\n",
      "i: 1\n",
      "x: 0.5836186919386425\n",
      "y: 0.5195548281532548\n",
      "cricuit: [array(-0.47833121), array(-0.41431116)]\n",
      "\n",
      "i: 2\n",
      "x: 0.39959964661919245\n",
      "y: 0.9108293489674851\n",
      "cricuit: [array(-0.23852269), array(-0.72777279)]\n",
      "\n",
      "i: 3\n",
      "x: 0.1443429421746275\n",
      "y: 0.2967560752595074\n",
      "cricuit: [array(-0.13755491), array(-0.28937864)]\n",
      "\n",
      "i: 4\n",
      "x: 0.5756242606724675\n",
      "y: 0.877951156607716\n",
      "cricuit: [array(-0.34769756), array(-0.64543993)]\n",
      "\n"
     ]
    }
   ],
   "source": [
    "dcircuit = qml.grad(circuit, argnum=0)\n",
    "\n",
    "for i in range(5):\n",
    "    print(\"i:\",i)\n",
    "    x, y = np.random.random(), np.random.random()\n",
    "    print(\"x: {}\\ny: {}\\ncricuit: {}\\n\".format(x,y,dcircuit([x, y])))"
   ]
  },
  {
   "attachments": {},
   "cell_type": "markdown",
   "metadata": {},
   "source": [
    "# Optimization"
   ]
  },
  {
   "cell_type": "code",
   "execution_count": 30,
   "metadata": {},
   "outputs": [],
   "source": [
    "def cost(x):\n",
    "    return circuit(x)"
   ]
  },
  {
   "cell_type": "code",
   "execution_count": 31,
   "metadata": {},
   "outputs": [
    {
     "name": "stdout",
     "output_type": "stream",
     "text": [
      "0.9998675058299389\n"
     ]
    }
   ],
   "source": [
    "init_params = np.array([0.011, 0.012], requires_grad=True)\n",
    "print(cost(init_params))"
   ]
  },
  {
   "cell_type": "code",
   "execution_count": 32,
   "metadata": {},
   "outputs": [
    {
     "name": "stdout",
     "output_type": "stream",
     "text": [
      "Cost after step     5:  0.9961778\n",
      "Cost after step    10:  0.8974944\n",
      "Cost after step    15:  0.1440490\n",
      "Cost after step    20: -0.1536720\n",
      "Cost after step    25: -0.9152496\n",
      "Cost after step    30: -0.9994046\n",
      "Cost after step    35: -0.9999964\n",
      "Cost after step    40: -1.0000000\n",
      "Cost after step    45: -1.0000000\n",
      "Cost after step    50: -1.0000000\n",
      "Cost after step    55: -1.0000000\n",
      "Cost after step    60: -1.0000000\n",
      "Cost after step    65: -1.0000000\n",
      "Cost after step    70: -1.0000000\n",
      "Cost after step    75: -1.0000000\n",
      "Cost after step    80: -1.0000000\n",
      "Cost after step    85: -1.0000000\n",
      "Cost after step    90: -1.0000000\n",
      "Cost after step    95: -1.0000000\n",
      "Cost after step   100: -1.0000000\n",
      "Optimized rotation angles: [7.15266381e-18 3.14159265e+00]\n"
     ]
    }
   ],
   "source": [
    "# initialise the optimizer\n",
    "opt = qml.GradientDescentOptimizer(stepsize=0.4)\n",
    "\n",
    "# set the number of steps\n",
    "steps = 100\n",
    "# set the initial parameter values\n",
    "params = init_params\n",
    "\n",
    "for i in range(steps):\n",
    "    # update the circuit parameters\n",
    "    params = opt.step(cost, params)\n",
    "\n",
    "    if (i + 1) % 5 == 0:\n",
    "        print(\"Cost after step {:5d}: {: .7f}\".format(i + 1, cost(params)))\n",
    "\n",
    "print(\"Optimized rotation angles: {}\".format(params))"
   ]
  },
  {
   "cell_type": "code",
   "execution_count": null,
   "metadata": {},
   "outputs": [],
   "source": []
  }
 ],
 "metadata": {
  "kernelspec": {
   "display_name": "quantum_kernel",
   "language": "python",
   "name": "quantum_kernel"
  },
  "language_info": {
   "codemirror_mode": {
    "name": "ipython",
    "version": 3
   },
   "file_extension": ".py",
   "mimetype": "text/x-python",
   "name": "python",
   "nbconvert_exporter": "python",
   "pygments_lexer": "ipython3",
   "version": "3.11.3"
  },
  "orig_nbformat": 4
 },
 "nbformat": 4,
 "nbformat_minor": 2
}
